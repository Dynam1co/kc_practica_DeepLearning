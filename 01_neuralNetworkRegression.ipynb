{
 "nbformat": 4,
 "nbformat_minor": 2,
 "metadata": {
  "language_info": {
   "name": "python",
   "codemirror_mode": {
    "name": "ipython",
    "version": 3
   }
  },
  "orig_nbformat": 2,
  "file_extension": ".py",
  "mimetype": "text/x-python",
  "name": "python",
  "npconvert_exporter": "python",
  "pygments_lexer": "ipython3",
  "version": 3
 },
 "cells": [
  {
   "cell_type": "markdown",
   "execution_count": null,
   "metadata": {},
   "outputs": [],
   "source": [
    "# Red neuronal regresión con datos numéricos\n",
    "En ese notebook usaremos una red neuronal de regresión para predecir el precio de los apartamentos sin tener en cuenta las imágenes, se hará con datos numéricos.\n",
    "\n",
    "El primer paso será cargar dos datasets de train y test y hacer el escalado de características\n",
    "\n",
    "## Carga de datos y escalado"
   ]
  },
  {
   "cell_type": "code",
   "execution_count": null,
   "metadata": {},
   "outputs": [],
   "source": [
    "import pandas as pd\n",
    "import os\n",
    "\n",
    "# Carga el dataset y devuelve un dataframe de Pandas\n",
    "def load_airbnb_dataset(ruta,nombre):\n",
    "    csv_path = os.path.join(ruta, nombre)\n",
    "    return pd.read_csv(csv_path, sep=';')"
   ]
  },
  {
   "cell_type": "code",
   "execution_count": null,
   "metadata": {},
   "outputs": [],
   "source": [
    "copTrain = load_airbnb_dataset('datasets', 'trainFinal.csv')\n",
    "copTest = load_airbnb_dataset('datasets', 'testFinal.csv')\n",
    "\n",
    "# Separo la Y del resto de datos\n",
    "dataPrecio = copTrain['Price']\n",
    "\n",
    "dataSinPrecio = copTrain.drop(['Price'], axis=1, inplace=False)\n",
    "\n",
    "y_train = dataPrecio.values\n",
    "X_train = dataSinPrecio.values\n",
    "\n",
    "feature_names = copTrain.columns[:]"
   ]
  }
 ]
}